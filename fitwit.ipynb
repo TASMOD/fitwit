{
 "cells": [
  {
   "cell_type": "code",
   "execution_count": null,
   "metadata": {},
   "outputs": [],
   "source": [
    "import myfitnesspal\n",
    "import datetime\n",
    "from datetime import date\n",
    "from datetime import timedelta\n",
    "import numpy as np\n",
    "import math \n",
    "USERNAME ='your_username'\n",
    "PASS = 'password'\n",
    "\n",
    "CLIENT = myfitnesspal.Client(USERNAME, password=PASS)\n",
    "\n",
    "WINDOW = {'week1_ago': ((date.today()) - timedelta(days=7), date.today()- timedelta(days=1)),\n",
    "          'week2_ago':((date.today()) - timedelta(days=14), date.today()- timedelta(days=8)),\n",
    "          'week3_ago':((date.today()) - timedelta(days=21), date.today()- timedelta(days=15))}\n",
    "\n",
    "def get_food():\n",
    "    food_list = []\n",
    "    for day in range((WINDOW['week1_ago'][1]- WINDOW['week2_ago'][0]).days+1):\n",
    "        food = CLIENT.get_date(WINDOW['week2_ago'][0] + timedelta(days=day)).totals\n",
    "        food_list.append(food)\n",
    "    return food_list\n",
    "\n",
    "def summarize_kcal():\n",
    "    total_kcal = 0\n",
    "    food_list = get_food()\n",
    "    for entry in food_list:\n",
    "        total_kcal += entry['calories']\n",
    "    return total_kcal\n",
    "    \n",
    "def summarize_weight():\n",
    "    weekly_averages = {}\n",
    "    for week in WINDOW.keys():\n",
    "        week_array = []\n",
    "        weight = CLIENT.get_measurements('Weight', WINDOW[week][0], WINDOW[week][1])\n",
    "        for day in range((WINDOW[week][1]-WINDOW[week][0]).days+1):\n",
    "            week_array.append(weight[WINDOW[week][0]+timedelta(days=day)])\n",
    "        weekly_averages[week] = np.mean(week_array)\n",
    "    return weekly_averages\n",
    "\n",
    "weekly_averages = summarize_weight()\n",
    "weight_change = abs(weekly_averages['week1_ago'] - weekly_averages['week3_ago']) \n",
    "in_kcal = weight_change * 7700\n",
    "kcal_2weeks = summarize_kcal()\n",
    "\n",
    "if weekly_averages['week1_ago'] > weekly_averages['week3_ago']:\n",
    "    final_tdee = (kcal_2weeks - in_kcal)/14\n",
    "else:\n",
    "    final_tdee = (kcal_2weeks + in_kcal)/14\n",
    "    \n",
    "print('Maintenance calories (daily) are:', final_tdee)"
   ]
  },
  {
   "cell_type": "code",
   "execution_count": 2,
   "metadata": {},
   "outputs": [
    {
     "name": "stdout",
     "output_type": "stream",
     "text": [
      "For Keto, with a defecit of 500kcal: \n",
      "Total calorie intake = 978 of which:\n",
      " 757 kcal are from fat, which is roughly 95 grams \n",
      " 196 kcal of protein, which is roughly 48.9 grams. \n",
      "Try to stay under 20g of carbs.\n"
     ]
    }
   ],
   "source": [
    "# Calories/ TDEE\n",
    "#Take your average weekly weight 3 weeks ago and subtract your average weekly weight now. \n",
    "#Multiply this weight change by 3500 to get the 2 weekly surplus (if you gained weight) or deficit (if you lost weight). \n",
    "#For example 3.1lbs loss x 3500 = 10,850 cals deficit.  ( kg * 2.205)\n",
    "#Add up your calorie intake from week 2 and week 3 and add your deficit or deduct your surplus. Whatever the total, divide it by 14 (days in 2 weeks) and you have your maintenance calories. \n",
    "tdee = final_tdee\n",
    "weight = CLIENT.get_measurements('Weight', date.today())[date.today()]\n",
    "deficit = 500\n",
    "kcal_input = tdee-deficit\n",
    "calories_from_protein = (4*weight)\n",
    "calories_from_fat = kcal_input - calories_from_protein - 25\n",
    "print('For Keto, with a defecit of 500kcal: \\nTotal calorie intake =', round(kcal_input), 'of which:\\n', round(calories_from_fat),'kcal are from fat, which is roughly',round(calories_from_fat/8),\n",
    "      'grams \\n',round(calories_from_protein),'kcal of protein, which is roughly', weight*1,'grams. \\nTry to stay under 20g of carbs.')\n",
    "\n"
   ]
  }
 ],
 "metadata": {
  "kernelspec": {
   "display_name": "Python 3",
   "language": "python",
   "name": "python3"
  },
  "language_info": {
   "codemirror_mode": {
    "name": "ipython",
    "version": 3
   },
   "file_extension": ".py",
   "mimetype": "text/x-python",
   "name": "python",
   "nbconvert_exporter": "python",
   "pygments_lexer": "ipython3",
   "version": "3.8.5"
  }
 },
 "nbformat": 4,
 "nbformat_minor": 4
}
